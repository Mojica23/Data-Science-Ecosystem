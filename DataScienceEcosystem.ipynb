{
 "cells": [
  {
   "cell_type": "markdown",
   "id": "72e54376-6c20-4ed8-816b-5ac045e5f15e",
   "metadata": {},
   "source": [
    "# Data Science Tools and Ecosystem\n",
    "\n",
    "\n"
   ]
  },
  {
   "cell_type": "markdown",
   "id": "f10fe8d8-e2f1-486a-8edd-bfeb0b84f442",
   "metadata": {},
   "source": [
    "In this notebook, Data Science Tools and Ecosystems are summarized. \n",
    "\n",
    "***Objectives:***\n",
    "- List popular languagaes for Data Science\n",
    "- List commonly used Libraries in Data Science\n",
    "- List Data Science Tools\n",
    "- Evaluate Arithmetic Expressions in Python\n",
    "  "
   ]
  },
  {
   "cell_type": "markdown",
   "id": "cee698b2-4f91-4c29-8001-16162199924d",
   "metadata": {},
   "source": [
    "Some of the popular languagaes that Data Scientists use are:\n",
    "\n",
    "1. Python\n",
    "2. C\n",
    "3. C++\n",
    "4. Java\n",
    "5. R\n",
    "\n",
    "   "
   ]
  },
  {
   "cell_type": "markdown",
   "id": "b86ee8a0-072c-4706-a18b-3af4bb684e6a",
   "metadata": {},
   "source": [
    "Some of the commonly used libraries by Data Scientists include:\n",
    "\n",
    "1. Numpy\n",
    "2. MatPlotlib\n",
    "3. Pandas\n",
    "4. ggplot\n",
    "5. stringr\n",
    "\n",
    "   "
   ]
  },
  {
   "cell_type": "markdown",
   "id": "44cef828-11d7-47b8-b2ec-d2fc724d709e",
   "metadata": {},
   "source": [
    "| Data Science Tools |\n",
    "|--------------------|\n",
    "| VSCode |\n",
    "| Jupyter Lab |\n",
    "| Google Collaborator |"
   ]
  },
  {
   "cell_type": "markdown",
   "id": "fbc2e234-bcba-4855-872a-e907c1a2bbae",
   "metadata": {},
   "source": [
    "### Below are a few examples of evaluating arithmetic expressions in Python"
   ]
  },
  {
   "cell_type": "code",
   "execution_count": 12,
   "id": "1f64c098-446d-43da-a935-3a1e9625089e",
   "metadata": {},
   "outputs": [
    {
     "data": {
      "text/plain": [
       "17"
      ]
     },
     "execution_count": 12,
     "metadata": {},
     "output_type": "execute_result"
    }
   ],
   "source": [
    "# This is a simple arithmetic expression to multiply, then add integers\n",
    "(3*4)+5"
   ]
  },
  {
   "cell_type": "code",
   "execution_count": 13,
   "id": "ba8bd9af-ca70-4353-a028-f6603d0d8245",
   "metadata": {},
   "outputs": [
    {
     "name": "stdout",
     "output_type": "stream",
     "text": [
      "Hours: 3.33\n"
     ]
    }
   ],
   "source": [
    "# This will convert 200 minutes to hours by dividing 200 by 60.\n",
    "minutes = 200\n",
    "hours = round(200/60,2)\n",
    "print(\"Hours:\", hours)"
   ]
  },
  {
   "cell_type": "markdown",
   "id": "11cf6b2b-7f8c-43fc-8e75-11faeca165f5",
   "metadata": {},
   "source": [
    "## Author \n",
    "Stalin Jaquez"
   ]
  },
  {
   "cell_type": "code",
   "execution_count": null,
   "id": "c0524ab1-d698-4fdc-a64f-f4c8c281e875",
   "metadata": {},
   "outputs": [],
   "source": []
  }
 ],
 "metadata": {
  "kernelspec": {
   "display_name": "Python 3 (ipykernel)",
   "language": "python",
   "name": "python3"
  },
  "language_info": {
   "codemirror_mode": {
    "name": "ipython",
    "version": 3
   },
   "file_extension": ".py",
   "mimetype": "text/x-python",
   "name": "python",
   "nbconvert_exporter": "python",
   "pygments_lexer": "ipython3",
   "version": "3.9.19"
  }
 },
 "nbformat": 4,
 "nbformat_minor": 5
}
